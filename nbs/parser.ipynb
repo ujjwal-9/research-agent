{
 "cells": [
  {
   "cell_type": "code",
   "execution_count": 1,
   "id": "0762c225",
   "metadata": {},
   "outputs": [],
   "source": [
    "%load_ext autoreload\n",
    "%autoreload 2"
   ]
  },
  {
   "cell_type": "code",
   "execution_count": 2,
   "id": "ba646e2b",
   "metadata": {},
   "outputs": [],
   "source": [
    "from eparse.core import get_df_from_file"
   ]
  },
  {
   "cell_type": "code",
   "execution_count": 3,
   "id": "f1a40d3e",
   "metadata": {},
   "outputs": [
    {
     "name": "stdout",
     "output_type": "stream",
     "text": [
      "[(                                                    2\n",
      "17  Will the company have operations in any region...\n",
      "18  Will the company's operations result in substa..., 'B18', 'Climate Change', 'ESG Scorecard Reference'), (                                                   1  \\\n",
      "18                                               NaN   \n",
      "19                          Supplemental Issue Areas   \n",
      "20                           Product and Food Safety   \n",
      "21  Supply Chain Social and Environmental Management   \n",
      "22                       Anti-Bribery and Corruption   \n",
      "23                          Worker Health and Safety   \n",
      "24                          Environmental Management   \n",
      "25                              Sustainable Branding   \n",
      "26                                       Calculation   \n",
      "27                                    ESG Risk Score   \n",
      "\n",
      "                                                    2  \n",
      "18  Will the company's operations result in substa...  \n",
      "19                                                NaN  \n",
      "20  Does the company plan to sell physical equipme...  \n",
      "21  Are there any materials that would be used in ...  \n",
      "22  Will the company be in an industry or have ope...  \n",
      "23  Will any employees work in roles that could re...  \n",
      "24       Will the company manufacture goods in-house?  \n",
      "25  Will sustainability be a core part of the comp...  \n",
      "26                                                NaN  \n",
      "27                                                NaN  , 'B20', 'Supplemental Issue Areas', 'ESG Scorecard Reference'), (                                                   1  \\\n",
      "1                                     ESG Issue Area   \n",
      "2                          Data Privacy and Security   \n",
      "3                              Ethics and Compliance   \n",
      "4                        Social and Labor Conditions   \n",
      "5                   Diversity, Equity, and Inclusion   \n",
      "6                                     Climate Change   \n",
      "7                                Product/Food Safety   \n",
      "8   Supply Chain Social and Environmental Management   \n",
      "9                        Anti-Bribery and Corruption   \n",
      "10                          Worker Health and Safety   \n",
      "11                          Environmental Management   \n",
      "12                              Sustainable Branding   \n",
      "\n",
      "                                                    2  \n",
      "1                                      Considerations  \n",
      "2   What types of sensitive data does the company ...  \n",
      "3   What business ethics (e.g., conflicts of inter...  \n",
      "4   How effectively does the company manage wages,...  \n",
      "5   Has the company faced any significant incident...  \n",
      "6   Does the company face any direct (i.e., within...  \n",
      "7   Does the company sell products that could caus...  \n",
      "8   Does the company source goods that are higher ...  \n",
      "9   Does the company have employees in foreign cou...  \n",
      "10  Are the company's operations high risk for emp...  \n",
      "11  Are the company's operations high risk for env...  \n",
      "12  Does the company make any public marketing cla...  , 'B2', 'ESG Issue Area', 'ESG Guidance')]\n"
     ]
    }
   ],
   "source": [
    "print(\n",
    "    [\n",
    "        table\n",
    "        for table in get_df_from_file(\n",
    "            \"/Users/ujjwal/code/redesign/data/documents/1. Deliverables-Memos/Saki ESG Scorecard.xlsx\"\n",
    "        )\n",
    "    ]\n",
    ")"
   ]
  }
 ],
 "metadata": {
  "kernelspec": {
   "display_name": ".venv",
   "language": "python",
   "name": "python3"
  },
  "language_info": {
   "codemirror_mode": {
    "name": "ipython",
    "version": 3
   },
   "file_extension": ".py",
   "mimetype": "text/x-python",
   "name": "python",
   "nbconvert_exporter": "python",
   "pygments_lexer": "ipython3",
   "version": "3.11.12"
  }
 },
 "nbformat": 4,
 "nbformat_minor": 5
}
